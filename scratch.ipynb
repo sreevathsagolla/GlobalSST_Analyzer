{
 "cells": [
  {
   "cell_type": "code",
   "execution_count": 1,
   "metadata": {},
   "outputs": [],
   "source": [
    "import matplotlib.pyplot as plt\n",
    "import numpy as np\n",
    "import argparse\n",
    "import pandas as pd"
   ]
  },
  {
   "cell_type": "code",
   "execution_count": 89,
   "metadata": {},
   "outputs": [],
   "source": [
    "start_year =  1982\n",
    "end_year = 2023\n",
    "obs_name = 'NOAA_OISST'\n",
    "data_type = 'SSTA_3'"
   ]
  },
  {
   "cell_type": "code",
   "execution_count": 96,
   "metadata": {},
   "outputs": [],
   "source": [
    "df = pd.read_csv('./data/'+obs_name+'_globmean_sst_data.csv')\n",
    "df['TIME'] = pd.to_datetime(df['TIME'])\n",
    "df = df.set_index('TIME')\n",
    "df = df[~((df.index.month == 2) & (df.index.day == 29))]\n",
    "df = df[(df.index.year>=start_year) & (df.index.year<=end_year)]"
   ]
  },
  {
   "cell_type": "code",
   "execution_count": null,
   "metadata": {},
   "outputs": [],
   "source": [
    "\n",
    "if args.data_type == 'SSTA_1':\n",
    "    if args.baseline:\n",
    "        validate_baseline(args.baseline)\n",
    "    else:\n",
    "        raise argparse.ArgumentTypeError(\"baseline invalid or not given, please retry.\")\n"
   ]
  },
  {
   "cell_type": "code",
   "execution_count": null,
   "metadata": {},
   "outputs": [],
   "source": []
  },
  {
   "cell_type": "code",
   "execution_count": 97,
   "metadata": {},
   "outputs": [],
   "source": [
    "w = 10\n"
   ]
  }
 ],
 "metadata": {
  "kernelspec": {
   "display_name": "base",
   "language": "python",
   "name": "python3"
  },
  "language_info": {
   "codemirror_mode": {
    "name": "ipython",
    "version": 3
   },
   "file_extension": ".py",
   "mimetype": "text/x-python",
   "name": "python",
   "nbconvert_exporter": "python",
   "pygments_lexer": "ipython3",
   "version": "3.11.8"
  }
 },
 "nbformat": 4,
 "nbformat_minor": 2
}
